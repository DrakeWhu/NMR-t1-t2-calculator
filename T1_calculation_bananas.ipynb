{
 "cells": [
  {
   "cell_type": "code",
   "execution_count": 1,
   "metadata": {},
   "outputs": [
    {
     "name": "stdout",
     "output_type": "stream",
     "text": [
      "806.4665278569306\n"
     ]
    },
    {
     "data": {
      "image/png": "[encoded data removed]",
      "text/plain": [
       "<Figure size 432x288 with 2 Axes>"
      ]
     },
     "metadata": {
      "needs_background": "light"
     },
     "output_type": "display_data"
    }
   ],
   "source": [
    "import matplotlib.pyplot as plt\n",
    "import numpy as np\n",
    "from image_array_creation import createImageArray\n",
    "import scipy.io\n",
    "from T1_creation import getT1\n",
    "\n",
    "rawData = scipy.io.loadmat('C:/Users/juanr/Desktop/Universidad/Master/Practicas/programa calculo t1t2/NMR-t1-t2-calculator/rawdata/t1Outside-2022.04.05/2022.04.05 (1)/Old_RARE.2022.04.05 (1)')\n",
    "nPoints = np.array(rawData['nPoints'][0])\n",
    "nImages = 13\n",
    "tVector = np.array([0, 100, 200, 300, 400, 500, 600, 700, 800, 900, 1000, 2000, 3000])\n",
    "path = 'C:/Users/juanr/Desktop/Universidad/Master/Practicas/programa calculo t1t2/NMR-t1-t2-calculator/rawdata/t1Outside-2022.04.05/2022.04.05'\n",
    "name = '/Old_RARE.2022.04.05' # Directory and name until the day\n",
    "imagen = createImageArray(path, name, nImages)\n",
    "\n",
    "# Get mask\n",
    "mask = np.squeeze(imagen[int(nPoints[2] / 2), :, :])\n",
    "mask = mask / np.max(mask[:])\n",
    "mask[mask < 0.15] = 0\n",
    "mask[mask >= 0.15] = 1\n",
    "\n",
    "# Get t1 for all pixels (I use ms as time units)\n",
    "t1Map = np.zeros((nPoints[1], nPoints[0]))\n",
    "for x in range(nPoints[1]):\n",
    "    for y in range(nPoints[0]):\n",
    "        if mask[y, x]==1:\n",
    "            t1Map[y, x] = getT1(imagen, nImages, tVector, nPoints, [x, y])\n",
    "t1Map[t1Map>2e3] = 0    # Just in case there is a huge T1 value due to fitting error\n",
    "\n",
    "meat_segment = t1Map[20:30,26:36]\n",
    "\n",
    "print(np.average(meat_segment))\n",
    "\n",
    "plt.figure(1)\n",
    "plt.imshow(t1Map, cmap='inferno')\n",
    "plt.colorbar()\n",
    "#plt.clim(0,1500)\n",
    "plt.show()\n"
   ]
  },
  {
   "cell_type": "markdown",
   "metadata": {},
   "source": [
    "# Evolution"
   ]
  },
  {
   "cell_type": "code",
   "execution_count": 2,
   "metadata": {},
   "outputs": [
    {
     "data": {
      "image/png": "[encoded data removed]",
      "text/plain": [
       "<Figure size 432x288 with 1 Axes>"
      ]
     },
     "metadata": {
      "needs_background": "light"
     },
     "output_type": "display_data"
    }
   ],
   "source": [
    "import matplotlib.pyplot as plt\n",
    "\n",
    "days = [1,4,5,6,7]\n",
    "days_out = [1,4,5,6]\n",
    "days_in = [1,5,6,7]\n",
    "avg_outside = [615.23,613.15,745.88,630.46]\n",
    "avg_inside = [607.38,617.47,711.25,577.00]\n",
    "\n",
    "plt.figure(1)\n",
    "plt.scatter(days_in,avg_inside)\n",
    "plt.savefig('banana_in_t1_ev.png', dpi='figure')\n",
    "plt.show()\n"
   ]
  }
 ],
 "metadata": {
  "kernelspec": {
   "display_name": "Python 3.9.13 64-bit (windows store)",
   "language": "python",
   "name": "python3"
  },
  "language_info": {
   "codemirror_mode": {
    "name": "ipython",
    "version": 3
   },
   "file_extension": ".py",
   "mimetype": "text/x-python",
   "name": "python",
   "nbconvert_exporter": "python",
   "pygments_lexer": "ipython3",
   "version": "3.9.13"
  },
  "orig_nbformat": 4,
  "vscode": {
   "interpreter": {
    "hash": "31363e289ea6ff030ca416af9a9287d08cdf97e251c5dc68f3722bbf337b2dbf"
   }
  }
 },
 "nbformat": 4,
 "nbformat_minor": 2
}
