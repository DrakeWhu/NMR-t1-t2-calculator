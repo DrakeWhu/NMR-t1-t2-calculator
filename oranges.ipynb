{
 "cells": [
  {
   "cell_type": "markdown",
   "metadata": {},
   "source": [
    "# Analysis of T1 and T2 parameters of oranges in a NMR experiment"
   ]
  },
  {
   "cell_type": "markdown",
   "metadata": {},
   "source": [
    "## Creation of the raw data lists"
   ]
  },
  {
   "cell_type": "code",
   "execution_count": 1,
   "metadata": {},
   "outputs": [],
   "source": [
    "import image_array_creation\n",
    "from pathlib import Path\n",
    "\n",
    "\n",
    "t1_data_path = Path(r\"C:/Users/juanr/Desktop/Universidad/Master/Practicas/programa calculo t1t2/NMR-t1-t2-calculator/rawdata/\")\n",
    "t2_data_path = Path(r\"C:/Users/juanr/Desktop/Universidad/Master/Practicas/programa calculo t1t2/NMR-t1-t2-calculator/t2_raw_data/\")\n",
    "\n",
    "t1_onlyfiles = [str(pp) for pp in t1_data_path.glob(\"**/*.mat\")]\n",
    "t2_onlyfiles = [str(pp) for pp in t2_data_path.glob(\"**/*.mat\")]\n",
    "\n",
    "t1_image_array = image_array_creation.create_image_array(t1_onlyfiles,'image3D')\n",
    "t2_image_array = image_array_creation.create_image_array(t2_onlyfiles,'imagen')"
   ]
  },
  {
   "cell_type": "markdown",
   "metadata": {},
   "source": [
    "## Creation of the proper oranges numpy arrays"
   ]
  },
  {
   "cell_type": "code",
   "execution_count": 2,
   "metadata": {},
   "outputs": [],
   "source": [
    "import separator\n",
    "import numpy as np\n",
    "\n",
    "# We create the separated arrays of T1 and T2\n",
    "\n",
    "separated_arrays = separator.separate_t1_t2(t1_image_array)\n",
    "t1_list = separated_arrays[0]\n",
    "t2_oranges_list = separated_arrays[1]\n",
    "\n",
    "# We turn them into numpy arrays\n",
    "\n",
    "t1 = np.asarray(t1_list)\n",
    "t2 = np.asarray(t2_image_array)\n",
    "t2_oranges = np.asarray(t2_oranges_list)\n",
    "\n",
    "t1_orange_seedless = t1[0:11]\n",
    "t1_orange_seeds = t1[11:22]"
   ]
  },
  {
   "cell_type": "markdown",
   "metadata": {},
   "source": [
    "## Orange masks"
   ]
  },
  {
   "cell_type": "code",
   "execution_count": 3,
   "metadata": {},
   "outputs": [],
   "source": [
    "import numpy as np\n",
    "\n",
    "orange_seeds_mask = np.where(np.abs(t1_orange_seeds) < 0.0005,0,1)\n",
    "orange_seedless_mask = np.where(np.abs(t1_orange_seedless) < 0.0005,0,1)"
   ]
  },
  {
   "cell_type": "markdown",
   "metadata": {},
   "source": [
    "## T1 image creation for the oranges"
   ]
  },
  {
   "cell_type": "code",
   "execution_count": 5,
   "metadata": {},
   "outputs": [
    {
     "data": {
      "image/png": "[encoded data removed]",
      "text/plain": [
       "<Figure size 432x288 with 2 Axes>"
      ]
     },
     "metadata": {
      "needs_background": "light"
     },
     "output_type": "display_data"
    },
    {
     "data": {
      "image/png": "[encoded data removed]",
      "text/plain": [
       "<Figure size 432x288 with 2 Axes>"
      ]
     },
     "metadata": {
      "needs_background": "light"
     },
     "output_type": "display_data"
    }
   ],
   "source": [
    "import T1_creation\n",
    "import numpy as np\n",
    "import matplotlib.pyplot as plt\n",
    "\n",
    "t1_seeds_image = T1_creation.create_T1_image(orange_seeds_mask,np.abs(t1_orange_seeds))\n",
    "t1_seedless_image = T1_creation.create_T1_image(orange_seedless_mask,np.abs(t1_orange_seedless))\n",
    "\n",
    "plt.figure(1)\n",
    "plt.imshow(np.abs(t1_seedless_image), cmap='inferno')\n",
    "plt.colorbar()\n",
    "plt.show()\n",
    "\n",
    "plt.figure(2)\n",
    "plt.imshow(np.abs(t1_seedless_image), cmap='inferno')\n",
    "plt.colorbar()\n",
    "plt.show()"
   ]
  }
 ],
 "metadata": {
  "interpreter": {
   "hash": "31363e289ea6ff030ca416af9a9287d08cdf97e251c5dc68f3722bbf337b2dbf"
  },
  "kernelspec": {
   "display_name": "Python 3.9.13 64-bit (windows store)",
   "language": "python",
   "name": "python3"
  },
  "language_info": {
   "codemirror_mode": {
    "name": "ipython",
    "version": 3
   },
   "file_extension": ".py",
   "mimetype": "text/x-python",
   "name": "python",
   "nbconvert_exporter": "python",
   "pygments_lexer": "ipython3",
   "version": "3.9.13"
  },
  "orig_nbformat": 4
 },
 "nbformat": 4,
 "nbformat_minor": 2
}
