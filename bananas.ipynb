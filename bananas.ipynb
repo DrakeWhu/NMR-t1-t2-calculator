{
 "cells": [
  {
   "cell_type": "markdown",
   "metadata": {},
   "source": [
    "# Analysis of T1 and T2 parameters of bananas and their evolution in a NMR experiment"
   ]
  },
  {
   "cell_type": "markdown",
   "metadata": {},
   "source": [
    "## Creation of the raw data lists"
   ]
  },
  {
   "cell_type": "code",
   "execution_count": 11,
   "metadata": {},
   "outputs": [
    {
     "name": "stdout",
     "output_type": "stream",
     "text": [
      "C:\\Users\\juanr\\Desktop\\Universidad\\Master\\Practicas\\programa calculo t1t2\\NMR-t1-t2-calculator\\rawdata\\t1Outside-2022.04.07\\2022.04.07 (9)\\RARE_Standalone.2022.04.07 (9).mat\n"
     ]
    }
   ],
   "source": [
    "import image_array_creation\n",
    "from pathlib import Path\n",
    "\n",
    "t1_data_path = Path(r\"C:/Users/juanr/Desktop/Universidad/Master/Practicas/programa calculo t1t2/NMR-t1-t2-calculator/rawdata/\")\n",
    "t2_data_path = Path(r\"C:/Users/juanr/Desktop/Universidad/Master/Practicas/programa calculo t1t2/NMR-t1-t2-calculator/t2_raw_data/\")\n",
    "\n",
    "t1_onlyfiles = [str(pp) for pp in t1_data_path.glob(\"**/*.mat\")]\n",
    "t2_onlyfiles = [str(pp) for pp in t2_data_path.glob(\"**/*.mat\")]\n",
    "print(t1_onlyfiles[158])\n",
    "\n",
    "t1_image_array = image_array_creation.create_image_array(t1_onlyfiles,'image3D')\n",
    "t2_image_array = image_array_creation.create_image_array(t2_onlyfiles,'imagen')"
   ]
  },
  {
   "cell_type": "markdown",
   "metadata": {},
   "source": [
    "## Creation of the proper banana numpy arrays"
   ]
  },
  {
   "cell_type": "code",
   "execution_count": 12,
   "metadata": {},
   "outputs": [
    {
     "data": {
      "image/png": "[encoded data removed]",
      "text/plain": [
       "<Figure size 432x288 with 1 Axes>"
      ]
     },
     "metadata": {
      "needs_background": "light"
     },
     "output_type": "display_data"
    }
   ],
   "source": [
    "import separator\n",
    "import numpy as np\n",
    "import matplotlib.pyplot as plt\n",
    "\n",
    "# We create the separated arrays of T1 and T2\n",
    "\n",
    "separated_arrays = separator.separate_t1_t2(t1_image_array)\n",
    "t1_list = separated_arrays[0]\n",
    "\n",
    "# We turn them into numpy arrays\n",
    "\n",
    "t1 = np.asarray(t1_list)\n",
    "t2 = np.asarray(t2_image_array)\n",
    "\n",
    "# Declaring all the different T1 measurement arrays\n",
    "\n",
    "t1_banana_d1 = t1[24:37]\n",
    "t1_banana_bag_d1 = t1[37:50]\n",
    "t1_banana_d2 = t1[50:63]\n",
    "t1_banana_bag_d2 = t1[63:76]\n",
    "t1_banana_d3 = t1[76:89]\n",
    "t1_banana_bag_d3 = t1[89:103]\n",
    "t1_banana_d4 = t1[103:116]\n",
    "t1_banana_bag_d4 = t1[116:129]\n",
    "t1_banana_d5 = t1[129:142]\n",
    "t1_banana_bag_d5 = t1[142:158]\n",
    "\n",
    "# Declaring all the different T2 measurement arrays\n",
    "\n",
    "t2_banana_d1 = t2[0]\n",
    "t2_banana_bag_d1 = t2[1]\n",
    "t2_banana_d2 = t2[2]\n",
    "t2_banana_bag_d2 = t2[3]\n",
    "t2_banana_d3 = t2[4]\n",
    "t2_banana_bag_d3 = t2[5]\n",
    "t2_banana_d4 = t2[6]\n",
    "t2_banana_bag_d4 = t2[7]\n",
    "\n",
    "plt.figure(1)\n",
    "plt.imshow(np.abs(t2_banana_bag_d1))\n",
    "plt.show()"
   ]
  },
  {
   "cell_type": "markdown",
   "metadata": {},
   "source": [
    "## Banana mask"
   ]
  },
  {
   "cell_type": "code",
   "execution_count": 13,
   "metadata": {},
   "outputs": [
    {
     "data": {
      "image/png": "[encoded data removed]",
      "text/plain": [
       "<Figure size 432x288 with 1 Axes>"
      ]
     },
     "metadata": {
      "needs_background": "light"
     },
     "output_type": "display_data"
    }
   ],
   "source": [
    "import numpy as np\n",
    "\n",
    "## T1 masks\n",
    "\n",
    "t1_banana_mask_d1 = np.where(np.abs(t1_banana_d1)<0.00075,0,1)\n",
    "t1_banana_bag_mask_d1 = np.where(np.abs(t1_banana_bag_d1)<0.00075,0,1)\n",
    "t1_banana_mask_d2 = np.where(np.abs(t1_banana_d2)<0.00075,0,1)\n",
    "t1_banana_bag_mask_d2 = np.where(np.abs(t1_banana_bag_d2)<0.0015,0,1)\n",
    "t1_banana_mask_d3 = np.where(np.abs(t1_banana_d3)<0.00075,0,1)\n",
    "t1_banana_bag_mask_d3 = np.where(np.abs(t1_banana_bag_d3)<0.001,0,1)\n",
    "t1_banana_mask_d4 = np.where(np.abs(t1_banana_d4)<0.0005,0,1)\n",
    "t1_banana_bag_mask_d4 = np.where(np.abs(t1_banana_bag_d4)<0.0005,0,1)\n",
    "\n",
    "# T2 masks\n",
    "\n",
    "t2_banana_mask_d1 = np.where(np.abs(t2_banana_d1)<0.0004,0,1)\n",
    "t2_banana_bag_mask_d1 = np.where(np.abs(t2_banana_bag_d1)<0.004,0,1)\n",
    "t2_banana_mask_d2 = np.where(np.abs(t2_banana_d2)<0.00075,0,1)\n",
    "t2_banana_bag_mask_d2 = np.where(np.abs(t2_banana_bag_d2)<0.00075,0,1)\n",
    "t2_banana_mask_d3 = np.where(np.abs(t2_banana_d3)<0.0005,0,1)\n",
    "t2_banana_bag_mask_d3 = np.where(np.abs(t2_banana_bag_d3)<0.0005,0,1)\n",
    "t2_banana_mask_d4 = np.where(np.abs(t2_banana_d4)<0.00025,0,1)\n",
    "t2_banana_bag_mask_d4 = np.where(np.abs(t2_banana_bag_d4)<0.0002,0,1)\n",
    "\n",
    "plt.figure(1)\n",
    "plt.imshow(t2_banana_bag_mask_d4)\n",
    "plt.show()\n"
   ]
  },
  {
   "cell_type": "markdown",
   "metadata": {},
   "source": [
    "# T1 image creation for the bananas"
   ]
  },
  {
   "cell_type": "markdown",
   "metadata": {},
   "source": [
    "## Day 1"
   ]
  },
  {
   "cell_type": "code",
   "execution_count": 14,
   "metadata": {},
   "outputs": [
    {
     "ename": "IndexError",
     "evalue": "index 13 is out of bounds for axis 0 with size 13",
     "output_type": "error",
     "traceback": [
      "\u001b[1;31m---------------------------------------------------------------------------\u001b[0m",
      "\u001b[1;31mIndexError\u001b[0m                                Traceback (most recent call last)",
      "\u001b[1;32mc:\\Users\\juanr\\Desktop\\Universidad\\Master\\Practicas\\programa calculo t1t2\\NMR-t1-t2-calculator\\bananas.ipynb Cell 10'\u001b[0m in \u001b[0;36m<cell line: 5>\u001b[1;34m()\u001b[0m\n\u001b[0;32m      <a href='vscode-notebook-cell:/c%3A/Users/juanr/Desktop/Universidad/Master/Practicas/programa%20calculo%20t1t2/NMR-t1-t2-calculator/bananas.ipynb#ch0000009?line=1'>2</a>\u001b[0m \u001b[39mimport\u001b[39;00m \u001b[39mmatplotlib\u001b[39;00m\u001b[39m.\u001b[39;00m\u001b[39mpyplot\u001b[39;00m \u001b[39mas\u001b[39;00m \u001b[39mplt\u001b[39;00m\n\u001b[0;32m      <a href='vscode-notebook-cell:/c%3A/Users/juanr/Desktop/Universidad/Master/Practicas/programa%20calculo%20t1t2/NMR-t1-t2-calculator/bananas.ipynb#ch0000009?line=2'>3</a>\u001b[0m \u001b[39mimport\u001b[39;00m \u001b[39mevolution\u001b[39;00m\n\u001b[1;32m----> <a href='vscode-notebook-cell:/c%3A/Users/juanr/Desktop/Universidad/Master/Practicas/programa%20calculo%20t1t2/NMR-t1-t2-calculator/bananas.ipynb#ch0000009?line=4'>5</a>\u001b[0m t1_banana_image_d1 \u001b[39m=\u001b[39m T1_creation\u001b[39m.\u001b[39;49mcreate_T1_image(t1_banana_mask_d1,np\u001b[39m.\u001b[39;49mabs(t1_banana_d1))\n\u001b[0;32m      <a href='vscode-notebook-cell:/c%3A/Users/juanr/Desktop/Universidad/Master/Practicas/programa%20calculo%20t1t2/NMR-t1-t2-calculator/bananas.ipynb#ch0000009?line=5'>6</a>\u001b[0m \u001b[39m#print(evolution.average(t1_banana_image_d1))\u001b[39;00m\n\u001b[0;32m      <a href='vscode-notebook-cell:/c%3A/Users/juanr/Desktop/Universidad/Master/Practicas/programa%20calculo%20t1t2/NMR-t1-t2-calculator/bananas.ipynb#ch0000009?line=6'>7</a>\u001b[0m plt\u001b[39m.\u001b[39mfigure(\u001b[39m0\u001b[39m)\n",
      "File \u001b[1;32mc:\\Users\\juanr\\Desktop\\Universidad\\Master\\Practicas\\programa calculo t1t2\\NMR-t1-t2-calculator\\T1_creation.py:30\u001b[0m, in \u001b[0;36mcreate_T1_image\u001b[1;34m(mask, image_array)\u001b[0m\n\u001b[0;32m     28\u001b[0m \u001b[39mfor\u001b[39;00m i \u001b[39min\u001b[39;00m \u001b[39mrange\u001b[39m(\u001b[39m0\u001b[39m,\u001b[39m60\u001b[39m):\n\u001b[0;32m     29\u001b[0m     \u001b[39mfor\u001b[39;00m j \u001b[39min\u001b[39;00m \u001b[39mrange\u001b[39m(\u001b[39m0\u001b[39m,\u001b[39m60\u001b[39m):\n\u001b[1;32m---> 30\u001b[0m         t1_image  \u001b[39m=\u001b[39m np\u001b[39m.\u001b[39mwhere(mask[i,j] \u001b[39m==\u001b[39m \u001b[39m1\u001b[39m, min_TI_value(image_array,i,j)\u001b[39m/\u001b[39mnp\u001b[39m.\u001b[39mlog(\u001b[39m2\u001b[39m), \u001b[39m1\u001b[39m)\n\u001b[0;32m     32\u001b[0m \u001b[39mreturn\u001b[39;00m t1_image\n",
      "\u001b[1;31mIndexError\u001b[0m: index 13 is out of bounds for axis 0 with size 13"
     ]
    }
   ],
   "source": [
    "import T1_creation\n",
    "import matplotlib.pyplot as plt\n",
    "import evolution\n",
    "\n",
    "t1_banana_image_d1 = T1_creation.create_T1_image(t1_banana_mask_d1,np.abs(t1_banana_d1))\n",
    "#print(evolution.average(t1_banana_image_d1))\n",
    "plt.figure(0)\n",
    "plt.imshow(np.abs(abs(t1_banana_d1[0])), cmap='inferno')\n",
    "plt.colorbar()\n",
    "plt.show()\n",
    "t1_banana_bag_image_d1 = T1_creation.create_T1_image(t1_banana_bag_mask_d1,np.abs(t1_banana_bag_d1))\n",
    "print(evolution.average(t1_banana_bag_image_d1))\n",
    "\n",
    "plt.figure(1)\n",
    "plt.imshow(np.abs(t1_banana_image_d1), cmap='inferno')\n",
    "plt.colorbar()\n",
    "plt.savefig('t1_banana_image_d1.png', dpi='figure')\n",
    "plt.show()\n",
    "\n",
    "plt.figure(2)\n",
    "plt.imshow(np.abs(t1_banana_bag_image_d1), cmap='inferno')\n",
    "plt.colorbar()\n",
    "plt.savefig('t1_banana_bag_image_d1.png', dpi='figure')\n",
    "plt.show()"
   ]
  },
  {
   "cell_type": "markdown",
   "metadata": {},
   "source": [
    "## Day 2"
   ]
  },
  {
   "cell_type": "code",
   "execution_count": null,
   "metadata": {},
   "outputs": [
    {
     "ename": "IndexError",
     "evalue": "index 13 is out of bounds for axis 0 with size 13",
     "output_type": "error",
     "traceback": [
      "\u001b[1;31m---------------------------------------------------------------------------\u001b[0m",
      "\u001b[1;31mIndexError\u001b[0m                                Traceback (most recent call last)",
      "\u001b[1;32mc:\\Users\\juanr\\Desktop\\Universidad\\Master\\Practicas\\programa calculo t1t2\\NMR-t1-t2-calculator\\bananas.ipynb Cell 12'\u001b[0m in \u001b[0;36m<cell line: 5>\u001b[1;34m()\u001b[0m\n\u001b[0;32m      <a href='vscode-notebook-cell:/c%3A/Users/juanr/Desktop/Universidad/Master/Practicas/programa%20calculo%20t1t2/NMR-t1-t2-calculator/bananas.ipynb#ch0000011?line=1'>2</a>\u001b[0m \u001b[39mimport\u001b[39;00m \u001b[39mmatplotlib\u001b[39;00m\u001b[39m.\u001b[39;00m\u001b[39mpyplot\u001b[39;00m \u001b[39mas\u001b[39;00m \u001b[39mplt\u001b[39;00m\n\u001b[0;32m      <a href='vscode-notebook-cell:/c%3A/Users/juanr/Desktop/Universidad/Master/Practicas/programa%20calculo%20t1t2/NMR-t1-t2-calculator/bananas.ipynb#ch0000011?line=2'>3</a>\u001b[0m \u001b[39mimport\u001b[39;00m \u001b[39mevolution\u001b[39;00m \u001b[39mas\u001b[39;00m \u001b[39mev\u001b[39;00m\n\u001b[1;32m----> <a href='vscode-notebook-cell:/c%3A/Users/juanr/Desktop/Universidad/Master/Practicas/programa%20calculo%20t1t2/NMR-t1-t2-calculator/bananas.ipynb#ch0000011?line=4'>5</a>\u001b[0m t1_banana_image_d2 \u001b[39m=\u001b[39m T1_creation\u001b[39m.\u001b[39;49mcreate_T1_image(t1_banana_mask_d2,np\u001b[39m.\u001b[39;49mabs(t1_banana_d2))\n\u001b[0;32m      <a href='vscode-notebook-cell:/c%3A/Users/juanr/Desktop/Universidad/Master/Practicas/programa%20calculo%20t1t2/NMR-t1-t2-calculator/bananas.ipynb#ch0000011?line=5'>6</a>\u001b[0m \u001b[39mprint\u001b[39m(ev\u001b[39m.\u001b[39maverage(t1_banana_image_d2))\n\u001b[0;32m      <a href='vscode-notebook-cell:/c%3A/Users/juanr/Desktop/Universidad/Master/Practicas/programa%20calculo%20t1t2/NMR-t1-t2-calculator/bananas.ipynb#ch0000011?line=6'>7</a>\u001b[0m t1_banana_bag_image_d2 \u001b[39m=\u001b[39m T1_creation\u001b[39m.\u001b[39mcreate_T1_image(t1_banana_bag_mask_d2,np\u001b[39m.\u001b[39mabs(t1_banana_bag_d2))\n",
      "File \u001b[1;32mc:\\Users\\juanr\\Desktop\\Universidad\\Master\\Practicas\\programa calculo t1t2\\NMR-t1-t2-calculator\\T1_creation.py:30\u001b[0m, in \u001b[0;36mcreate_T1_image\u001b[1;34m(mask, image_array)\u001b[0m\n\u001b[0;32m     28\u001b[0m \u001b[39mfor\u001b[39;00m i \u001b[39min\u001b[39;00m \u001b[39mrange\u001b[39m(\u001b[39m0\u001b[39m,\u001b[39m60\u001b[39m):\n\u001b[0;32m     29\u001b[0m     \u001b[39mfor\u001b[39;00m j \u001b[39min\u001b[39;00m \u001b[39mrange\u001b[39m(\u001b[39m0\u001b[39m,\u001b[39m60\u001b[39m):\n\u001b[1;32m---> 30\u001b[0m         t1_image  \u001b[39m=\u001b[39m np\u001b[39m.\u001b[39mwhere(mask[i,j] \u001b[39m==\u001b[39m \u001b[39m1\u001b[39m, min_TI_value(image_array,i,j)\u001b[39m/\u001b[39mnp\u001b[39m.\u001b[39mlog(\u001b[39m2\u001b[39m), \u001b[39m1\u001b[39m)\n\u001b[0;32m     32\u001b[0m \u001b[39mreturn\u001b[39;00m t1_image\n",
      "\u001b[1;31mIndexError\u001b[0m: index 13 is out of bounds for axis 0 with size 13"
     ]
    }
   ],
   "source": [
    "import T1_creation\n",
    "import matplotlib.pyplot as plt\n",
    "import evolution as ev\n",
    "\n",
    "t1_banana_image_d2 = T1_creation.create_T1_image(t1_banana_mask_d2,np.abs(t1_banana_d2))\n",
    "print(ev.average(t1_banana_image_d2))\n",
    "t1_banana_bag_image_d2 = T1_creation.create_T1_image(t1_banana_bag_mask_d2,np.abs(t1_banana_bag_d2))\n",
    "print(ev.average(t1_banana_bag_image_d2))\n",
    "\n",
    "plt.figure(1)\n",
    "plt.imshow(np.abs(t1_banana_image_d2), cmap='inferno')\n",
    "plt.colorbar()\n",
    "plt.savefig('t1_banana_image_d2.png', dpi='figure')\n",
    "plt.show()\n",
    "\n",
    "plt.figure(2)\n",
    "plt.imshow(np.abs(t1_banana_bag_image_d2), cmap='inferno')\n",
    "plt.colorbar()\n",
    "plt.savefig('t1_banana_bag_image_d2.png', dpi='figure')\n",
    "plt.show()"
   ]
  },
  {
   "cell_type": "markdown",
   "metadata": {},
   "source": [
    "## Day 3"
   ]
  },
  {
   "cell_type": "code",
   "execution_count": null,
   "metadata": {},
   "outputs": [
    {
     "ename": "IndexError",
     "evalue": "index 13 is out of bounds for axis 0 with size 13",
     "output_type": "error",
     "traceback": [
      "\u001b[1;31m---------------------------------------------------------------------------\u001b[0m",
      "\u001b[1;31mIndexError\u001b[0m                                Traceback (most recent call last)",
      "\u001b[1;32mc:\\Users\\juanr\\Desktop\\Universidad\\Master\\Practicas\\programa calculo t1t2\\NMR-t1-t2-calculator\\bananas.ipynb Cell 14'\u001b[0m in \u001b[0;36m<cell line: 4>\u001b[1;34m()\u001b[0m\n\u001b[0;32m      <a href='vscode-notebook-cell:/c%3A/Users/juanr/Desktop/Universidad/Master/Practicas/programa%20calculo%20t1t2/NMR-t1-t2-calculator/bananas.ipynb#ch0000013?line=0'>1</a>\u001b[0m \u001b[39mimport\u001b[39;00m \u001b[39mT1_creation\u001b[39;00m\n\u001b[0;32m      <a href='vscode-notebook-cell:/c%3A/Users/juanr/Desktop/Universidad/Master/Practicas/programa%20calculo%20t1t2/NMR-t1-t2-calculator/bananas.ipynb#ch0000013?line=1'>2</a>\u001b[0m \u001b[39mimport\u001b[39;00m \u001b[39mmatplotlib\u001b[39;00m\u001b[39m.\u001b[39;00m\u001b[39mpyplot\u001b[39;00m \u001b[39mas\u001b[39;00m \u001b[39mplt\u001b[39;00m\n\u001b[1;32m----> <a href='vscode-notebook-cell:/c%3A/Users/juanr/Desktop/Universidad/Master/Practicas/programa%20calculo%20t1t2/NMR-t1-t2-calculator/bananas.ipynb#ch0000013?line=3'>4</a>\u001b[0m t1_banana_image_d3 \u001b[39m=\u001b[39m T1_creation\u001b[39m.\u001b[39;49mcreate_T1_image(t1_banana_mask_d3,np\u001b[39m.\u001b[39;49mabs(t1_banana_d3))\n\u001b[0;32m      <a href='vscode-notebook-cell:/c%3A/Users/juanr/Desktop/Universidad/Master/Practicas/programa%20calculo%20t1t2/NMR-t1-t2-calculator/bananas.ipynb#ch0000013?line=4'>5</a>\u001b[0m t1_banana_bag_image_d3 \u001b[39m=\u001b[39m T1_creation\u001b[39m.\u001b[39mcreate_T1_image(t1_banana_bag_mask_d3,np\u001b[39m.\u001b[39mabs(t1_banana_bag_d3))\n\u001b[0;32m      <a href='vscode-notebook-cell:/c%3A/Users/juanr/Desktop/Universidad/Master/Practicas/programa%20calculo%20t1t2/NMR-t1-t2-calculator/bananas.ipynb#ch0000013?line=6'>7</a>\u001b[0m plt\u001b[39m.\u001b[39mfigure(\u001b[39m1\u001b[39m)\n",
      "File \u001b[1;32mc:\\Users\\juanr\\Desktop\\Universidad\\Master\\Practicas\\programa calculo t1t2\\NMR-t1-t2-calculator\\T1_creation.py:30\u001b[0m, in \u001b[0;36mcreate_T1_image\u001b[1;34m(mask, image_array)\u001b[0m\n\u001b[0;32m     28\u001b[0m \u001b[39mfor\u001b[39;00m i \u001b[39min\u001b[39;00m \u001b[39mrange\u001b[39m(\u001b[39m0\u001b[39m,\u001b[39m60\u001b[39m):\n\u001b[0;32m     29\u001b[0m     \u001b[39mfor\u001b[39;00m j \u001b[39min\u001b[39;00m \u001b[39mrange\u001b[39m(\u001b[39m0\u001b[39m,\u001b[39m60\u001b[39m):\n\u001b[1;32m---> 30\u001b[0m         t1_image  \u001b[39m=\u001b[39m np\u001b[39m.\u001b[39mwhere(mask[i,j] \u001b[39m==\u001b[39m \u001b[39m1\u001b[39m, min_TI_value(image_array,i,j)\u001b[39m/\u001b[39mnp\u001b[39m.\u001b[39mlog(\u001b[39m2\u001b[39m), \u001b[39m1\u001b[39m)\n\u001b[0;32m     32\u001b[0m \u001b[39mreturn\u001b[39;00m t1_image\n",
      "\u001b[1;31mIndexError\u001b[0m: index 13 is out of bounds for axis 0 with size 13"
     ]
    }
   ],
   "source": [
    "import T1_creation\n",
    "import matplotlib.pyplot as plt\n",
    "\n",
    "t1_banana_image_d3 = T1_creation.create_T1_image(t1_banana_mask_d3,np.abs(t1_banana_d3))\n",
    "t1_banana_bag_image_d3 = T1_creation.create_T1_image(t1_banana_bag_mask_d3,np.abs(t1_banana_bag_d3))\n",
    "\n",
    "plt.figure(1)\n",
    "plt.imshow(np.abs(t1_banana_image_d3), cmap='inferno')\n",
    "plt.colorbar()\n",
    "plt.savefig('t1_banana_image_d3.png', dpi='figure')\n",
    "plt.show()\n",
    "\n",
    "plt.figure(2)\n",
    "plt.imshow(np.abs(t1_banana_bag_image_d3), cmap='inferno')\n",
    "plt.colorbar()\n",
    "plt.savefig('t1_banana_bag_image_d3.png', dpi='figure')\n",
    "plt.show()"
   ]
  },
  {
   "cell_type": "markdown",
   "metadata": {},
   "source": [
    "## Day 4"
   ]
  },
  {
   "cell_type": "code",
   "execution_count": null,
   "metadata": {},
   "outputs": [
    {
     "ename": "IndexError",
     "evalue": "index 13 is out of bounds for axis 0 with size 13",
     "output_type": "error",
     "traceback": [
      "\u001b[1;31m---------------------------------------------------------------------------\u001b[0m",
      "\u001b[1;31mIndexError\u001b[0m                                Traceback (most recent call last)",
      "\u001b[1;32mc:\\Users\\juanr\\Desktop\\Universidad\\Master\\Practicas\\programa calculo t1t2\\NMR-t1-t2-calculator\\bananas.ipynb Cell 16'\u001b[0m in \u001b[0;36m<cell line: 4>\u001b[1;34m()\u001b[0m\n\u001b[0;32m      <a href='vscode-notebook-cell:/c%3A/Users/juanr/Desktop/Universidad/Master/Practicas/programa%20calculo%20t1t2/NMR-t1-t2-calculator/bananas.ipynb#ch0000015?line=0'>1</a>\u001b[0m \u001b[39mimport\u001b[39;00m \u001b[39mT1_creation\u001b[39;00m\n\u001b[0;32m      <a href='vscode-notebook-cell:/c%3A/Users/juanr/Desktop/Universidad/Master/Practicas/programa%20calculo%20t1t2/NMR-t1-t2-calculator/bananas.ipynb#ch0000015?line=1'>2</a>\u001b[0m \u001b[39mimport\u001b[39;00m \u001b[39mmatplotlib\u001b[39;00m\u001b[39m.\u001b[39;00m\u001b[39mpyplot\u001b[39;00m \u001b[39mas\u001b[39;00m \u001b[39mplt\u001b[39;00m\n\u001b[1;32m----> <a href='vscode-notebook-cell:/c%3A/Users/juanr/Desktop/Universidad/Master/Practicas/programa%20calculo%20t1t2/NMR-t1-t2-calculator/bananas.ipynb#ch0000015?line=3'>4</a>\u001b[0m t1_banana_image_d4 \u001b[39m=\u001b[39m T1_creation\u001b[39m.\u001b[39;49mcreate_T1_image(t1_banana_mask_d4,np\u001b[39m.\u001b[39;49mabs(t1_banana_d4))\n\u001b[0;32m      <a href='vscode-notebook-cell:/c%3A/Users/juanr/Desktop/Universidad/Master/Practicas/programa%20calculo%20t1t2/NMR-t1-t2-calculator/bananas.ipynb#ch0000015?line=4'>5</a>\u001b[0m t1_banana_bag_image_d4 \u001b[39m=\u001b[39m T1_creation\u001b[39m.\u001b[39mcreate_T1_image(t1_banana_bag_mask_d4,np\u001b[39m.\u001b[39mabs(t1_banana_bag_d4))\n\u001b[0;32m      <a href='vscode-notebook-cell:/c%3A/Users/juanr/Desktop/Universidad/Master/Practicas/programa%20calculo%20t1t2/NMR-t1-t2-calculator/bananas.ipynb#ch0000015?line=6'>7</a>\u001b[0m plt\u001b[39m.\u001b[39mfigure(\u001b[39m1\u001b[39m)\n",
      "File \u001b[1;32mc:\\Users\\juanr\\Desktop\\Universidad\\Master\\Practicas\\programa calculo t1t2\\NMR-t1-t2-calculator\\T1_creation.py:30\u001b[0m, in \u001b[0;36mcreate_T1_image\u001b[1;34m(mask, image_array)\u001b[0m\n\u001b[0;32m     28\u001b[0m \u001b[39mfor\u001b[39;00m i \u001b[39min\u001b[39;00m \u001b[39mrange\u001b[39m(\u001b[39m0\u001b[39m,\u001b[39m60\u001b[39m):\n\u001b[0;32m     29\u001b[0m     \u001b[39mfor\u001b[39;00m j \u001b[39min\u001b[39;00m \u001b[39mrange\u001b[39m(\u001b[39m0\u001b[39m,\u001b[39m60\u001b[39m):\n\u001b[1;32m---> 30\u001b[0m         t1_image  \u001b[39m=\u001b[39m np\u001b[39m.\u001b[39mwhere(mask[i,j] \u001b[39m==\u001b[39m \u001b[39m1\u001b[39m, min_TI_value(image_array,i,j)\u001b[39m/\u001b[39mnp\u001b[39m.\u001b[39mlog(\u001b[39m2\u001b[39m), \u001b[39m1\u001b[39m)\n\u001b[0;32m     32\u001b[0m \u001b[39mreturn\u001b[39;00m t1_image\n",
      "\u001b[1;31mIndexError\u001b[0m: index 13 is out of bounds for axis 0 with size 13"
     ]
    }
   ],
   "source": [
    "import T1_creation\n",
    "import matplotlib.pyplot as plt\n",
    "\n",
    "t1_banana_image_d4 = T1_creation.create_T1_image(t1_banana_mask_d4,np.abs(t1_banana_d4))\n",
    "t1_banana_bag_image_d4 = T1_creation.create_T1_image(t1_banana_bag_mask_d4,np.abs(t1_banana_bag_d4))\n",
    "\n",
    "plt.figure(1)\n",
    "plt.imshow(np.abs(t1_banana_image_d4), cmap='inferno')\n",
    "plt.colorbar()\n",
    "plt.savefig('t1_banana_image_d4.png', dpi='figure')\n",
    "plt.show()\n",
    "\n",
    "plt.figure(2)\n",
    "plt.imshow(np.abs(t1_banana_bag_image_d4), cmap='inferno')\n",
    "plt.colorbar()\n",
    "plt.savefig('t1_banana_bag_image_d4.png', dpi='figure')\n",
    "plt.show()"
   ]
  },
  {
   "cell_type": "markdown",
   "metadata": {},
   "source": [
    "# T1 evolution"
   ]
  },
  {
   "cell_type": "code",
   "execution_count": null,
   "metadata": {},
   "outputs": [],
   "source": []
  },
  {
   "cell_type": "markdown",
   "metadata": {},
   "source": [
    "## Evolution of the average T1 in the banana"
   ]
  },
  {
   "cell_type": "code",
   "execution_count": null,
   "metadata": {},
   "outputs": [
    {
     "name": "stdout",
     "output_type": "stream",
     "text": [
      "-16.474527903317973\n",
      "273.8769999999999\n",
      "4\n",
      "4\n",
      "[257.877 255.477 253.077 250.677 248.277 245.877 243.477 241.077 238.677\n",
      " 236.277 233.877 231.477 229.077 226.677 224.277 221.877 219.477 217.077\n",
      " 214.677 212.277]\n"
     ]
    },
    {
     "data": {
      "image/png": "[encoded data removed]",
      "text/plain": [
       "<Figure size 432x288 with 1 Axes>"
      ]
     },
     "metadata": {
      "needs_background": "light"
     },
     "output_type": "display_data"
    }
   ],
   "source": [
    "import evolution\n",
    "import numpy as np\n",
    "import matplotlib.pyplot as plt\n",
    "\n",
    "days = [1,2,3,4]\n",
    "days_array = np.asanyarray(days)\n",
    "days_line = np.arange(1,4,0.15)\n",
    "\n",
    "# Creation of the lists\n",
    "\n",
    "t1_banana_image_list = [t1_banana_image_d1,t1_banana_image_d2,t1_banana_image_d3,t1_banana_image_d4]\n",
    "t1_banana_bag_image_list = [t1_banana_bag_image_d1,t1_banana_bag_image_d2,t1_banana_bag_image_d3,t1_banana_bag_image_d4]\n",
    "\n",
    "# Creation of numpy arrays\n",
    "\n",
    "t1_banana_image_array = np.asarray(t1_banana_image_list)\n",
    "t1_banana_bag_image_array = np.asarray(t1_banana_bag_image_list)\n",
    "\n",
    "# Creation of avergae arrays\n",
    "\n",
    "banana_average = evolution.evolution(t1_banana_image_array)\n",
    "banana_bag_average = evolution.evolution(t1_banana_bag_image_array)\n",
    "banana_average_array = np.asarray(banana_average)\n",
    "banana_bag_average_array = np.asarray(banana_bag_average)\n",
    "\n",
    "\n",
    "# Creation of the evolution scatter plots\n",
    "\n",
    "m, b = np.polyfit(days_array, banana_bag_average_array, 1)\n",
    "print(m)\n",
    "print(b)\n",
    "print(days_array.shape[0])\n",
    "print(banana_bag_average_array.shape[0])\n",
    "line = int(m)*days_line+b\n",
    "print(line)\n",
    "\n",
    "plt.plot(days_array, banana_bag_average_array, 'o')\n",
    "plt.plot(days_line, line, '-')\n",
    "plt.savefig('banana_bag_evolution_plot.png', dpi='figure')\n",
    "plt.show()\n",
    "\n",
    "\n"
   ]
  },
  {
   "cell_type": "markdown",
   "metadata": {},
   "source": [
    "## Banana evolution without conflictive points"
   ]
  },
  {
   "cell_type": "code",
   "execution_count": null,
   "metadata": {},
   "outputs": [
    {
     "ename": "IndexError",
     "evalue": "index 3 is out of bounds for axis 0 with size 3",
     "output_type": "error",
     "traceback": [
      "\u001b[1;31m---------------------------------------------------------------------------\u001b[0m",
      "\u001b[1;31mIndexError\u001b[0m                                Traceback (most recent call last)",
      "\u001b[1;32mc:\\Users\\juanr\\Desktop\\Universidad\\Master\\Practicas\\programa calculo t1t2\\NMR-t1-t2-calculator\\bananas.ipynb Cell 22'\u001b[0m in \u001b[0;36m<cell line: 23>\u001b[1;34m()\u001b[0m\n\u001b[0;32m     <a href='vscode-notebook-cell:/c%3A/Users/juanr/Desktop/Universidad/Master/Practicas/programa%20calculo%20t1t2/NMR-t1-t2-calculator/bananas.ipynb#ch0000019?line=18'>19</a>\u001b[0m t1_banana_bag_image_array \u001b[39m=\u001b[39m np\u001b[39m.\u001b[39masarray(t1_banana_bag_image_list)\n\u001b[0;32m     <a href='vscode-notebook-cell:/c%3A/Users/juanr/Desktop/Universidad/Master/Practicas/programa%20calculo%20t1t2/NMR-t1-t2-calculator/bananas.ipynb#ch0000019?line=20'>21</a>\u001b[0m \u001b[39m# Creation of avergae arrays\u001b[39;00m\n\u001b[1;32m---> <a href='vscode-notebook-cell:/c%3A/Users/juanr/Desktop/Universidad/Master/Practicas/programa%20calculo%20t1t2/NMR-t1-t2-calculator/bananas.ipynb#ch0000019?line=22'>23</a>\u001b[0m banana_average \u001b[39m=\u001b[39m evolution\u001b[39m.\u001b[39;49mevolution(t1_banana_image_array)\n\u001b[0;32m     <a href='vscode-notebook-cell:/c%3A/Users/juanr/Desktop/Universidad/Master/Practicas/programa%20calculo%20t1t2/NMR-t1-t2-calculator/bananas.ipynb#ch0000019?line=23'>24</a>\u001b[0m banana_bag_average \u001b[39m=\u001b[39m evolution\u001b[39m.\u001b[39mevolution(t1_banana_bag_image_array)\n\u001b[0;32m     <a href='vscode-notebook-cell:/c%3A/Users/juanr/Desktop/Universidad/Master/Practicas/programa%20calculo%20t1t2/NMR-t1-t2-calculator/bananas.ipynb#ch0000019?line=24'>25</a>\u001b[0m banana_average_array \u001b[39m=\u001b[39m np\u001b[39m.\u001b[39masarray(banana_average)\n",
      "File \u001b[1;32mc:\\Users\\juanr\\Desktop\\Universidad\\Master\\Practicas\\programa calculo t1t2\\NMR-t1-t2-calculator\\evolution.py:28\u001b[0m, in \u001b[0;36mevolution\u001b[1;34m(array)\u001b[0m\n\u001b[0;32m     25\u001b[0m average_t1_array \u001b[39m=\u001b[39m np\u001b[39m.\u001b[39mempty(\u001b[39m4\u001b[39m)\n\u001b[0;32m     27\u001b[0m \u001b[39mfor\u001b[39;00m i \u001b[39min\u001b[39;00m \u001b[39mrange\u001b[39m(\u001b[39m4\u001b[39m):\n\u001b[1;32m---> 28\u001b[0m     mean \u001b[39m=\u001b[39m average(\u001b[39mabs\u001b[39m(array[i,:,:]))\n\u001b[0;32m     29\u001b[0m     np\u001b[39m.\u001b[39minsert(average_t1_array, i, mean)\n\u001b[0;32m     31\u001b[0m \u001b[39mreturn\u001b[39;00m average_t1_array\n",
      "\u001b[1;31mIndexError\u001b[0m: index 3 is out of bounds for axis 0 with size 3"
     ]
    }
   ],
   "source": [
    "import evolution\n",
    "import numpy as np\n",
    "import matplotlib.pyplot as plt\n",
    "\n",
    "days_banana = [1,3,4]\n",
    "days_banana_bag = [1,2,4]\n",
    "days_array_banana = np.asanyarray(days_banana)\n",
    "days_array_banana_bag = np.asarray(days_banana_bag)\n",
    "days_line = np.arange(1,4,0.15)\n",
    "\n",
    "# Creation of the lists\n",
    "\n",
    "t1_banana_image_list = [t1_banana_image_d1,t1_banana_image_d3,t1_banana_image_d4]\n",
    "t1_banana_bag_image_list = [t1_banana_bag_image_d1,t1_banana_bag_image_d2,t1_banana_bag_image_d4]\n",
    "\n",
    "# Creation of numpy arrays\n",
    "\n",
    "t1_banana_image_array = np.asarray(t1_banana_image_list)\n",
    "t1_banana_bag_image_array = np.asarray(t1_banana_bag_image_list)\n",
    "\n",
    "# Creation of avergae arrays\n",
    "\n",
    "banana_average = evolution.evolution(t1_banana_image_array)\n",
    "banana_bag_average = evolution.evolution(t1_banana_bag_image_array)\n",
    "banana_average_array = np.asarray(banana_average)\n",
    "banana_bag_average_array = np.asarray(banana_bag_average)\n",
    "\n",
    "\n",
    "# Creation of the evolution scatter plots\n",
    "\n",
    "m, b = np.polyfit(days_array_banana_bag, banana_bag_average_array, 1)\n",
    "print(m)\n",
    "print(b)\n",
    "print(days_array_banana_bag.shape[0])\n",
    "print(banana_bag_average_array.shape[0])\n",
    "line = int(m)*days_line+b\n",
    "print(line)\n",
    "\n",
    "plt.plot(days_array_banana_bag, banana_bag_average_array, 'o')\n",
    "plt.plot(days_line, line, '-')\n",
    "plt.savefig('banana_bag_evolution_plot_3p.png', dpi='figure')\n",
    "plt.show()"
   ]
  },
  {
   "cell_type": "markdown",
   "metadata": {},
   "source": [
    "# T2 image creation for the bananas"
   ]
  },
  {
   "cell_type": "markdown",
   "metadata": {},
   "source": [
    "## Day 1"
   ]
  },
  {
   "cell_type": "code",
   "execution_count": 16,
   "metadata": {},
   "outputs": [
    {
     "name": "stdout",
     "output_type": "stream",
     "text": [
      "3600\n",
      "3600\n"
     ]
    },
    {
     "data": {
      "image/png": "[encoded data removed]",
      "text/plain": [
       "<Figure size 432x288 with 2 Axes>"
      ]
     },
     "metadata": {
      "needs_background": "light"
     },
     "output_type": "display_data"
    }
   ],
   "source": [
    "import T2_creation\n",
    "import numpy as np\n",
    "import image_array_creation\n",
    "\n",
    "banana_T2_d1 = T2_creation.create_t2_image(image_array_creation.create_t2_array(t2_banana_d1),t2_banana_mask_d1)\n",
    "banana_bag_T2_d1 = T2_creation.create_t2_image(image_array_creation.create_t2_array(t2_banana_bag_d1),t2_banana_bag_mask_d1)\n",
    "\n",
    "\n",
    "plt.figure(1)\n",
    "plt.imshow(np.abs(banana_bag_T2_d1))\n",
    "plt.colorbar()\n",
    "plt.clim(0.9,1)\n",
    "plt.savefig('t2_banana_bag_image_d1.png', dpi='figure')\n",
    "plt.show()\n"
   ]
  },
  {
   "cell_type": "markdown",
   "metadata": {},
   "source": [
    "## Day 2"
   ]
  },
  {
   "cell_type": "code",
   "execution_count": 17,
   "metadata": {},
   "outputs": [
    {
     "name": "stdout",
     "output_type": "stream",
     "text": [
      "3600\n",
      "3600\n"
     ]
    },
    {
     "data": {
      "image/png": "[encoded data removed]",
      "text/plain": [
       "<Figure size 432x288 with 2 Axes>"
      ]
     },
     "metadata": {
      "needs_background": "light"
     },
     "output_type": "display_data"
    }
   ],
   "source": [
    "import T2_creation\n",
    "import numpy as np\n",
    "import image_array_creation\n",
    "\n",
    "banana_T2_d2 = T2_creation.create_t2_image(image_array_creation.create_t2_array(t2_banana_d2),t2_banana_mask_d2)\n",
    "banana_bag_T2_d2 = T2_creation.create_t2_image(image_array_creation.create_t2_array(t2_banana_bag_d2),t2_banana_bag_mask_d2)\n",
    "\n",
    "\n",
    "plt.figure(1)\n",
    "plt.imshow(np.abs(banana_T2_d2))\n",
    "plt.colorbar()\n",
    "plt.clim(0.9,1)\n",
    "plt.savefig('t2_banana_image_d2.png', dpi='figure')\n",
    "plt.show()\n"
   ]
  },
  {
   "cell_type": "markdown",
   "metadata": {},
   "source": [
    "## Day 3"
   ]
  },
  {
   "cell_type": "code",
   "execution_count": 18,
   "metadata": {},
   "outputs": [
    {
     "name": "stdout",
     "output_type": "stream",
     "text": [
      "3600\n",
      "3600\n"
     ]
    },
    {
     "data": {
      "image/png": "[encoded data removed]",
      "text/plain": [
       "<Figure size 432x288 with 2 Axes>"
      ]
     },
     "metadata": {
      "needs_background": "light"
     },
     "output_type": "display_data"
    }
   ],
   "source": [
    "import T2_creation\n",
    "import numpy as np\n",
    "import image_array_creation\n",
    "\n",
    "banana_T2_d3 = T2_creation.create_t2_image(image_array_creation.create_t2_array(t2_banana_d3),t2_banana_mask_d3)\n",
    "banana_bag_T2_d3 = T2_creation.create_t2_image(image_array_creation.create_t2_array(t2_banana_bag_d3),t2_banana_bag_mask_d3)\n",
    "\n",
    "\n",
    "plt.figure(1)\n",
    "plt.imshow(np.abs(banana_T2_d3))\n",
    "plt.colorbar()\n",
    "plt.clim(0.9,1)\n",
    "plt.savefig('t2_banana_image_d3.png', dpi='figure')\n",
    "plt.show()"
   ]
  },
  {
   "cell_type": "markdown",
   "metadata": {},
   "source": [
    "## Day 4"
   ]
  },
  {
   "cell_type": "code",
   "execution_count": 19,
   "metadata": {},
   "outputs": [
    {
     "name": "stdout",
     "output_type": "stream",
     "text": [
      "3600\n",
      "3600\n"
     ]
    },
    {
     "data": {
      "image/png": "[encoded data removed]",
      "text/plain": [
       "<Figure size 432x288 with 2 Axes>"
      ]
     },
     "metadata": {
      "needs_background": "light"
     },
     "output_type": "display_data"
    }
   ],
   "source": [
    "import T2_creation\n",
    "import numpy as np\n",
    "import image_array_creation\n",
    "\n",
    "banana_T2_d4 = T2_creation.create_t2_image(image_array_creation.create_t2_array(t2_banana_d4),t2_banana_mask_d4)\n",
    "banana_bag_T2_d4 = T2_creation.create_t2_image(image_array_creation.create_t2_array(t2_banana_bag_d4),t2_banana_bag_mask_d4)\n",
    "\n",
    "\n",
    "plt.figure(1)\n",
    "plt.imshow(np.abs(banana_T2_d4))\n",
    "plt.colorbar()\n",
    "plt.clim(0.9,1)\n",
    "plt.savefig('t2_banana_image_d4.png', dpi='figure')\n",
    "plt.show()"
   ]
  },
  {
   "cell_type": "markdown",
   "metadata": {},
   "source": [
    "# T2 Evolution"
   ]
  },
  {
   "cell_type": "code",
   "execution_count": 20,
   "metadata": {},
   "outputs": [
    {
     "ename": "NameError",
     "evalue": "name 'm' is not defined",
     "output_type": "error",
     "traceback": [
      "\u001b[1;31m---------------------------------------------------------------------------\u001b[0m",
      "\u001b[1;31mNameError\u001b[0m                                 Traceback (most recent call last)",
      "\u001b[1;32mc:\\Users\\juanr\\Desktop\\Universidad\\Master\\Practicas\\programa calculo t1t2\\NMR-t1-t2-calculator\\bananas.ipynb Cell 33'\u001b[0m in \u001b[0;36m<cell line: 29>\u001b[1;34m()\u001b[0m\n\u001b[0;32m     <a href='vscode-notebook-cell:/c%3A/Users/juanr/Desktop/Universidad/Master/Practicas/programa%20calculo%20t1t2/NMR-t1-t2-calculator/bananas.ipynb#ch0000032?line=23'>24</a>\u001b[0m banana_bag_average_array \u001b[39m=\u001b[39m np\u001b[39m.\u001b[39masarray(banana_bag_average)\n\u001b[0;32m     <a href='vscode-notebook-cell:/c%3A/Users/juanr/Desktop/Universidad/Master/Practicas/programa%20calculo%20t1t2/NMR-t1-t2-calculator/bananas.ipynb#ch0000032?line=26'>27</a>\u001b[0m \u001b[39m# Creation of the evolution scatter plots\u001b[39;00m\n\u001b[1;32m---> <a href='vscode-notebook-cell:/c%3A/Users/juanr/Desktop/Universidad/Master/Practicas/programa%20calculo%20t1t2/NMR-t1-t2-calculator/bananas.ipynb#ch0000032?line=28'>29</a>\u001b[0m \u001b[39mprint\u001b[39m(m)\n\u001b[0;32m     <a href='vscode-notebook-cell:/c%3A/Users/juanr/Desktop/Universidad/Master/Practicas/programa%20calculo%20t1t2/NMR-t1-t2-calculator/bananas.ipynb#ch0000032?line=29'>30</a>\u001b[0m \u001b[39mprint\u001b[39m(b)\n\u001b[0;32m     <a href='vscode-notebook-cell:/c%3A/Users/juanr/Desktop/Universidad/Master/Practicas/programa%20calculo%20t1t2/NMR-t1-t2-calculator/bananas.ipynb#ch0000032?line=30'>31</a>\u001b[0m \u001b[39mprint\u001b[39m(days_array\u001b[39m.\u001b[39mshape[\u001b[39m0\u001b[39m])\n",
      "\u001b[1;31mNameError\u001b[0m: name 'm' is not defined"
     ]
    }
   ],
   "source": [
    "import evolution\n",
    "import numpy as np\n",
    "import matplotlib.pyplot as plt\n",
    "\n",
    "days = [1,2,3,4]\n",
    "days_array = np.asanyarray(days)\n",
    "days_line = np.arange(1,4,0.15)\n",
    "\n",
    "# Creation of the lists\n",
    "\n",
    "t2_banana_image_list = [banana_T2_d1,banana_T2_d2,banana_T2_d3,banana_T2_d4]\n",
    "t2_banana_bag_image_list = [banana_bag_T2_d1,banana_bag_T2_d2,banana_bag_T2_d3,banana_bag_T2_d4]\n",
    "\n",
    "# Creation of numpy arrays\n",
    "\n",
    "t2_banana_image_array = np.asarray(t2_banana_image_list)\n",
    "t2_banana_bag_image_array = np.asarray(t2_banana_bag_image_list)\n",
    "\n",
    "# Creation of avergae arrays\n",
    "\n",
    "banana_average = evolution.evolution(t2_banana_image_array)\n",
    "banana_bag_average = evolution.evolution(t2_banana_bag_image_array)\n",
    "banana_average_array = np.asarray(banana_average)\n",
    "banana_bag_average_array = np.asarray(banana_bag_average)\n",
    "\n",
    "\n",
    "# Creation of the evolution scatter plots\n",
    "\n",
    "print(m)\n",
    "print(b)\n",
    "print(days_array.shape[0])\n",
    "print(banana_bag_average_array.shape[0])\n",
    "print(line)\n",
    "\n",
    "plt.plot(days_array, banana_bag_average_array, 'o')\n",
    "#plt.savefig('t2_banana_bag_evolution_plot.png', dpi='figure')\n",
    "plt.show()\n"
   ]
  },
  {
   "cell_type": "code",
   "execution_count": 4,
   "metadata": {},
   "outputs": [
    {
     "data": {
      "image/png": "[encoded data removed]",
      "text/plain": [
       "<Figure size 432x288 with 2 Axes>"
      ]
     },
     "metadata": {
      "needs_background": "light"
     },
     "output_type": "display_data"
    }
   ],
   "source": [
    "\n"
   ]
  }
 ],
 "metadata": {
  "interpreter": {
   "hash": "31363e289ea6ff030ca416af9a9287d08cdf97e251c5dc68f3722bbf337b2dbf"
  },
  "kernelspec": {
   "display_name": "Python 3.9.13 64-bit (windows store)",
   "language": "python",
   "name": "python3"
  },
  "language_info": {
   "codemirror_mode": {
    "name": "ipython",
    "version": 3
   },
   "file_extension": ".py",
   "mimetype": "text/x-python",
   "name": "python",
   "nbconvert_exporter": "python",
   "pygments_lexer": "ipython3",
   "version": "3.9.13"
  },
  "orig_nbformat": 4
 },
 "nbformat": 4,
 "nbformat_minor": 2
}
